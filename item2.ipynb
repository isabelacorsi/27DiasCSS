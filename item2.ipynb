{
  "nbformat": 4,
  "nbformat_minor": 0,
  "metadata": {
    "colab": {
      "name": "item2.ipynb",
      "provenance": [],
      "collapsed_sections": [],
      "toc_visible": true,
      "authorship_tag": "ABX9TyMeplrOdu4QnSWgkqm5INGo",
      "include_colab_link": true
    },
    "kernelspec": {
      "name": "python3",
      "display_name": "Python 3"
    }
  },
  "cells": [
    {
      "cell_type": "markdown",
      "metadata": {
        "id": "view-in-github",
        "colab_type": "text"
      },
      "source": [
        "<a href=\"https://colab.research.google.com/github/isabelacorsi/30DiasCSS/blob/main/item2.ipynb\" target=\"_parent\"><img src=\"https://colab.research.google.com/assets/colab-badge.svg\" alt=\"Open In Colab\"/></a>"
      ]
    },
    {
      "cell_type": "code",
      "metadata": {
        "id": "sQiMezHXDNAi"
      },
      "source": [
        "!pip install pandas\r\n",
        "!pip install -U scikit-learn"
      ],
      "execution_count": null,
      "outputs": []
    },
    {
      "cell_type": "code",
      "metadata": {
        "id": "4Kf3zTrLDt-U"
      },
      "source": [
        "import pandas as pd\r\n",
        "#Biblioteca para as métricas\r\n",
        "from sklearn.metrics import accuracy_score \r\n",
        "from sklearn.metrics import classification_report\r\n",
        "from sklearn.metrics import precision_recall_fscore_support\r\n",
        "from sklearn.metrics import recall_score\r\n",
        "from sklearn.metrics import precision_score"
      ],
      "execution_count": 8,
      "outputs": []
    },
    {
      "cell_type": "code",
      "metadata": {
        "id": "TgwaesjMD0Lw",
        "colab": {
          "base_uri": "https://localhost:8080/",
          "height": 204
        },
        "outputId": "47885ff3-c97e-429c-87d1-677feeea9973"
      },
      "source": [
        "data = pd.read_excel('Analise_ML.xlsx') #lendo o arquivo com dados\r\n",
        "data.head()"
      ],
      "execution_count": 9,
      "outputs": [
        {
          "output_type": "execute_result",
          "data": {
            "text/html": [
              "<div>\n",
              "<style scoped>\n",
              "    .dataframe tbody tr th:only-of-type {\n",
              "        vertical-align: middle;\n",
              "    }\n",
              "\n",
              "    .dataframe tbody tr th {\n",
              "        vertical-align: top;\n",
              "    }\n",
              "\n",
              "    .dataframe thead th {\n",
              "        text-align: right;\n",
              "    }\n",
              "</style>\n",
              "<table border=\"1\" class=\"dataframe\">\n",
              "  <thead>\n",
              "    <tr style=\"text-align: right;\">\n",
              "      <th></th>\n",
              "      <th>Pred_class</th>\n",
              "      <th>probabilidade</th>\n",
              "      <th>status</th>\n",
              "      <th>True_class</th>\n",
              "    </tr>\n",
              "  </thead>\n",
              "  <tbody>\n",
              "    <tr>\n",
              "      <th>0</th>\n",
              "      <td>2</td>\n",
              "      <td>0.079892</td>\n",
              "      <td>approved</td>\n",
              "      <td>0.0</td>\n",
              "    </tr>\n",
              "    <tr>\n",
              "      <th>1</th>\n",
              "      <td>2</td>\n",
              "      <td>0.379377</td>\n",
              "      <td>approved</td>\n",
              "      <td>74.0</td>\n",
              "    </tr>\n",
              "    <tr>\n",
              "      <th>2</th>\n",
              "      <td>2</td>\n",
              "      <td>0.379377</td>\n",
              "      <td>approved</td>\n",
              "      <td>74.0</td>\n",
              "    </tr>\n",
              "    <tr>\n",
              "      <th>3</th>\n",
              "      <td>2</td>\n",
              "      <td>0.420930</td>\n",
              "      <td>approved</td>\n",
              "      <td>74.0</td>\n",
              "    </tr>\n",
              "    <tr>\n",
              "      <th>4</th>\n",
              "      <td>2</td>\n",
              "      <td>0.607437</td>\n",
              "      <td>approved</td>\n",
              "      <td>NaN</td>\n",
              "    </tr>\n",
              "  </tbody>\n",
              "</table>\n",
              "</div>"
            ],
            "text/plain": [
              "   Pred_class  probabilidade    status  True_class\n",
              "0           2       0.079892  approved         0.0\n",
              "1           2       0.379377  approved        74.0\n",
              "2           2       0.379377  approved        74.0\n",
              "3           2       0.420930  approved        74.0\n",
              "4           2       0.607437  approved         NaN"
            ]
          },
          "metadata": {
            "tags": []
          },
          "execution_count": 9
        }
      ]
    },
    {
      "cell_type": "code",
      "metadata": {
        "id": "b4EVL3o5FsaP"
      },
      "source": [
        "pred = data.iloc[: , 0] #aloca dados de pred_class\r\n",
        "true = data.iloc[: , 3] #aloca dadosde true_class\r\n",
        "real = true.fillna(value=pred) #preenche dados nulos em true_class"
      ],
      "execution_count": null,
      "outputs": []
    },
    {
      "cell_type": "markdown",
      "metadata": {
        "id": "JoXpPB_edFIV"
      },
      "source": [
        "### Métricas:\r\n",
        "\r\n",
        "\r\n",
        "*   Accurancy : (verdadeiro positivos + verdadeiros negativos) / tamanho dos dados\r\n",
        "\r\n",
        "*   Precision : verdadeios positivos / (veidadeiros positivos + falsos positivos)\r\n",
        "\r\n",
        "*   Recall : verdadeios positivos / (veidadeiros positivos + falsos negativos)\r\n",
        "\r\n",
        "*   Classification_report: precision, recall, f1_score e support de cada classe\r\n",
        "\r\n",
        "\r\n"
      ]
    },
    {
      "cell_type": "code",
      "metadata": {
        "id": "25_MHiUOPJmv",
        "colab": {
          "base_uri": "https://localhost:8080/"
        },
        "outputId": "28e0be8b-0bc2-41f3-e785-265592d40cd8"
      },
      "source": [
        "print(\"Accuracy: {0:.10f}%\".format(accuracy_score(real,pred)*100), \"dos dados previsto corretamente\")"
      ],
      "execution_count": 28,
      "outputs": [
        {
          "output_type": "stream",
          "text": [
            "Accuracy: 71.8506998445% dos dados previsto corretamente\n"
          ],
          "name": "stdout"
        }
      ]
    },
    {
      "cell_type": "code",
      "metadata": {
        "colab": {
          "base_uri": "https://localhost:8080/"
        },
        "id": "jmxFOxAW2Qjo",
        "outputId": "2173aed2-593c-49a8-8f52-4bee3dff0502"
      },
      "source": [
        "print(\"Recall com avergage = 'micro' : {0:.10f}%\".format(recall_score(real, pred, average='micro')*100))\r\n",
        "print(\"Recall com avergage = 'macro' : {0:.10f}%\".format(recall_score(real, pred, average='macro', zero_division=0)*100))"
      ],
      "execution_count": 29,
      "outputs": [
        {
          "output_type": "stream",
          "text": [
            "Recall com avergage = 'micro' : 71.8506998445%\n",
            "Recall com avergage = 'macro' : 69.9773985897%\n"
          ],
          "name": "stdout"
        }
      ]
    },
    {
      "cell_type": "code",
      "metadata": {
        "colab": {
          "base_uri": "https://localhost:8080/"
        },
        "id": "6zcxB-tN2phf",
        "outputId": "5a87c1ff-4f1a-4fe2-e4c7-7fdc227e08b5"
      },
      "source": [
        "print(\"Precision com avergage = 'micro' : {0:.10f}%\".format(precision_score(real, pred, average='micro')*100))\r\n",
        "print(\"Precision com avergage = 'macro' : {0:.10f}%\".format(precision_score(real, pred, average='macro', zero_division=0)*100))"
      ],
      "execution_count": 27,
      "outputs": [
        {
          "output_type": "stream",
          "text": [
            "Precision com avergage = 'micro' : 71.8506998445%\n",
            "Precision com avergage = 'macro' : 62.8664890499%\n"
          ],
          "name": "stdout"
        }
      ]
    },
    {
      "cell_type": "code",
      "metadata": {
        "id": "WecysDtGOM-Q",
        "colab": {
          "base_uri": "https://localhost:8080/"
        },
        "outputId": "98232696-493e-431a-f66c-63966ddb7822"
      },
      "source": [
        "report = classification_report(real, pred, zero_division=0)\r\n",
        "print(report)"
      ],
      "execution_count": 30,
      "outputs": [
        {
          "output_type": "stream",
          "text": [
            "              precision    recall  f1-score   support\n",
            "\n",
            "         0.0       0.00      0.00      0.00        54\n",
            "         2.0       0.77      0.77      0.77        61\n",
            "         3.0       0.79      0.83      0.81        60\n",
            "         4.0       0.78      0.86      0.82        21\n",
            "        11.0       0.44      1.00      0.62         4\n",
            "        12.0       0.83      0.71      0.77         7\n",
            "        15.0       0.67      0.67      0.67         3\n",
            "        17.0       0.86      0.75      0.80         8\n",
            "        19.0       0.40      0.40      0.40         5\n",
            "        21.0       0.00      0.00      0.00         0\n",
            "        22.0       0.67      0.91      0.77        11\n",
            "        24.0       0.71      0.62      0.67        16\n",
            "        25.0       0.83      1.00      0.91        10\n",
            "        26.0       0.33      0.50      0.40         2\n",
            "        28.0       0.50      1.00      0.67         1\n",
            "        29.0       1.00      1.00      1.00         7\n",
            "        30.0       0.60      1.00      0.75         3\n",
            "        31.0       0.00      0.00      0.00         0\n",
            "        32.0       0.25      0.50      0.33         4\n",
            "        33.0       0.00      0.00      0.00         0\n",
            "        36.0       1.00      1.00      1.00         1\n",
            "        39.0       0.67      1.00      0.80         4\n",
            "        40.0       1.00      0.78      0.88         9\n",
            "        43.0       0.50      1.00      0.67         3\n",
            "        46.0       1.00      1.00      1.00         1\n",
            "        48.0       0.50      0.25      0.33         4\n",
            "        49.0       0.00      0.00      0.00         0\n",
            "        50.0       0.00      0.00      0.00         0\n",
            "        52.0       0.30      1.00      0.46         6\n",
            "        54.0       1.00      1.00      1.00         2\n",
            "        55.0       0.82      0.93      0.87        15\n",
            "        56.0       1.00      1.00      1.00         3\n",
            "        58.0       1.00      0.50      0.67         2\n",
            "        59.0       0.25      1.00      0.40         1\n",
            "        60.0       0.81      0.89      0.85        28\n",
            "        62.0       0.75      0.60      0.67         5\n",
            "        63.0       1.00      1.00      1.00         2\n",
            "        64.0       0.00      0.00      0.00         0\n",
            "        65.0       0.33      0.50      0.40         2\n",
            "        66.0       0.00      0.00      0.00         1\n",
            "        68.0       0.67      1.00      0.80         2\n",
            "        69.0       1.00      1.00      1.00         1\n",
            "        70.0       1.00      0.75      0.86         4\n",
            "        73.0       0.50      0.50      0.50         2\n",
            "        74.0       0.95      0.72      0.82        78\n",
            "        76.0       1.00      0.80      0.89        10\n",
            "        77.0       0.77      0.83      0.80        29\n",
            "        78.0       1.00      1.00      1.00         3\n",
            "        79.0       1.00      0.43      0.60         7\n",
            "        81.0       0.60      0.33      0.43         9\n",
            "        82.0       1.00      1.00      1.00         5\n",
            "        84.0       1.00      1.00      1.00         1\n",
            "        85.0       0.43      0.60      0.50        10\n",
            "        86.0       0.33      0.20      0.25         5\n",
            "        87.0       1.00      0.67      0.80         6\n",
            "        88.0       1.00      1.00      1.00         3\n",
            "        90.0       0.67      1.00      0.80         2\n",
            "        92.0       0.20      0.50      0.29         2\n",
            "        93.0       1.00      1.00      1.00         1\n",
            "        94.0       1.00      1.00      1.00         1\n",
            "        95.0       0.00      0.00      0.00         0\n",
            "        96.0       0.90      0.90      0.90        21\n",
            "        98.0       1.00      0.71      0.83         7\n",
            "        99.0       0.57      0.80      0.67        10\n",
            "       100.0       1.00      1.00      1.00         1\n",
            "       102.0       1.00      0.62      0.77         8\n",
            "       103.0       0.67      1.00      0.80         6\n",
            "       104.0       0.25      1.00      0.40         1\n",
            "       105.0       0.00      0.00      0.00         0\n",
            "       106.0       0.25      1.00      0.40         1\n",
            "       107.0       1.00      1.00      1.00         1\n",
            "       108.0       0.69      0.90      0.78        10\n",
            "       109.0       0.00      0.00      0.00         0\n",
            "       110.0       0.69      1.00      0.81        11\n",
            "       111.0       0.33      1.00      0.50         1\n",
            "       112.0       0.50      0.67      0.57         3\n",
            "       113.0       1.00      1.00      1.00         1\n",
            "       114.0       1.00      1.00      1.00         1\n",
            "       115.0       0.80      0.80      0.80         5\n",
            "       116.0       1.00      0.67      0.80         3\n",
            "       117.0       0.00      0.00      0.00         3\n",
            "       118.0       0.40      1.00      0.57         2\n",
            "\n",
            "    accuracy                           0.72       643\n",
            "   macro avg       0.63      0.70      0.64       643\n",
            "weighted avg       0.72      0.72      0.70       643\n",
            "\n"
          ],
          "name": "stdout"
        }
      ]
    }
  ]
}